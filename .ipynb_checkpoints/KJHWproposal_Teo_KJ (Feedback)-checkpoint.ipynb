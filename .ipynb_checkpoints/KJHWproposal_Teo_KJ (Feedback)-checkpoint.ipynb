{
 "cells": [
  {
   "cell_type": "markdown",
   "metadata": {
    "colab_type": "text",
    "id": "riJyJQFiKzLb"
   },
   "source": [
    "**Comments**\n",
    "\n",
    "- Interesting project, but i would suggest that you tag the acting crew to the movie so that you can see if there is a correlation between certain sets of crew and the eventual success/failure\n",
    "- I would also suggest for your team to take a look at some of the sample projects on kaggle to help you guys discern the correct visualisations, or explorations which you guys should be working on"
   ]
  },
  {
   "cell_type": "markdown",
   "metadata": {
    "colab_type": "text",
    "id": "OC4Jwnn2BLxU"
   },
   "source": [
    "(Pick any one of the following, depending on the length of your title)\n",
    "<center><h1>Strategy to maximize box office income</h1></center>\n",
    "<hr>\n",
    "<justify><h2>Datasets: Boxofficemojo Alltime Domestic Data and The Movies Dataset</h2></justify>\n",
    "<hr>\n",
    "<justify><h3>Source of Datasets: Kaggle</h3></justify>\n",
    "<hr>\n",
    "\n",
    "(List down the team members & telegram handles so we can easily communicate with you on the project)\n",
    "### Author(s)\n",
    "\n",
    "- Lee Hong Wei\n",
    "\n",
    "- Teo Kai Jie\n",
    "\n",
    "Class: Sat 3.30-6.30pm"
   ]
  },
  {
   "cell_type": "markdown",
   "metadata": {
    "colab_type": "text",
    "id": "hkmkrNtTBLxV"
   },
   "source": [
    "### Executive Summary\n",
    "\n",
    "(Short paragraph on the topic, hypothesis & conclusions of your study. No more than 2 paragraphs.)\n",
    "\n",
    "The most common method used to measure a movie's success is through its box office numbers. The most common method to achieve high box office figures is to create movies contents which viewers like. In this project, we will be examining the relationships of various factors that can affect the movie's success, such as the timing of movie release, the title of film, sentiments of viewers leading to the film's release or even performance of related movies in the case of movie sequels, and then comparing these factors with the box office returns. The box office market we will be analysing is the United States market, as the film market in US is one of the largest in today's economy. We will be using several datasets obtained from Kaggle for our analysis. A set of data analysis tools from the Pandas and the matplotliblibrary, nltk and so on will be used to visualise our given data which includes plots. This will be explained further below."
   ]
  },
  {
   "cell_type": "markdown",
   "metadata": {
    "colab_type": "text",
    "id": "EBHWEumnBLxV"
   },
   "source": [
    "### Research Topic & Hypothesis\n",
    "\n",
    "Describe the topic that you intend to study in your report and what prior beliefs you have about this topic.\n",
    "\n",
    "We will first begin with the analysis of the Datasets, starting from the Movies dataset to obtain the box office performance of the movies released. Thereafter, analyse the indicators of the performance of the movies, such as the ratings data and reviews given, as well as anaylse the key details of the movies, such as the full title, casts and crew involved, studio name. This is because the details may have some implications on the performance of the movie. We will find out soon.\n",
    "\n",
    "Before doing the analysis, we will need to clean the datasets.\n",
    "\n",
    "**Datasets used:**\n",
    "- The Movies Dataset ([https://www.kaggle.com/rounakbanik/the-movies-dataset]) retrieved on 13 July 2019\n",
    "- Boxofficemojo Alltime Domestic Data ([https://www.kaggle.com/eliasdabbas/boxofficemojo-alltime-domestic-data]) retrieved on 13 July 2019\n",
    "\n"
   ]
  },
  {
   "cell_type": "code",
   "execution_count": 0,
   "metadata": {
    "ExecuteTime": {
     "end_time": "2019-04-27T11:23:15.824369Z",
     "start_time": "2019-04-27T11:23:15.478164Z"
    },
    "colab": {},
    "colab_type": "code",
    "id": "-E-NPWYhBLxW"
   },
   "outputs": [],
   "source": [
    "import pandas as pd\n",
    "import matplotlib.pyplot as plt\n",
    "from nltk.tokenize import word_tokenize"
   ]
  },
  {
   "cell_type": "code",
   "execution_count": 0,
   "metadata": {
    "ExecuteTime": {
     "end_time": "2019-04-27T11:23:15.831939Z",
     "start_time": "2019-04-27T11:23:15.826775Z"
    },
    "colab": {},
    "colab_type": "code",
    "id": "YN3PeItqBLxZ",
    "outputId": "759a8aa6-e285-4f1a-aff6-18fc47876ee5"
   },
   "outputs": [
    {
     "data": {
      "text/html": [
       "<div>\n",
       "<style scoped>\n",
       "    .dataframe tbody tr th:only-of-type {\n",
       "        vertical-align: middle;\n",
       "    }\n",
       "\n",
       "    .dataframe tbody tr th {\n",
       "        vertical-align: top;\n",
       "    }\n",
       "\n",
       "    .dataframe thead th {\n",
       "        text-align: right;\n",
       "    }\n",
       "</style>\n",
       "<table border=\"1\" class=\"dataframe\">\n",
       "  <thead>\n",
       "    <tr style=\"text-align: right;\">\n",
       "      <th></th>\n",
       "      <th>rank</th>\n",
       "      <th>title</th>\n",
       "      <th>studio</th>\n",
       "      <th>lifetime_gross</th>\n",
       "      <th>year</th>\n",
       "    </tr>\n",
       "  </thead>\n",
       "  <tbody>\n",
       "    <tr>\n",
       "      <th>0</th>\n",
       "      <td>1</td>\n",
       "      <td>Star Wars: The Force Awakens</td>\n",
       "      <td>BV</td>\n",
       "      <td>936662225</td>\n",
       "      <td>2015</td>\n",
       "    </tr>\n",
       "    <tr>\n",
       "      <th>1</th>\n",
       "      <td>2</td>\n",
       "      <td>Avatar</td>\n",
       "      <td>Fox</td>\n",
       "      <td>760507625</td>\n",
       "      <td>2009</td>\n",
       "    </tr>\n",
       "    <tr>\n",
       "      <th>2</th>\n",
       "      <td>3</td>\n",
       "      <td>Black Panther</td>\n",
       "      <td>BV</td>\n",
       "      <td>700059566</td>\n",
       "      <td>2018</td>\n",
       "    </tr>\n",
       "    <tr>\n",
       "      <th>3</th>\n",
       "      <td>4</td>\n",
       "      <td>Avengers: Infinity War</td>\n",
       "      <td>BV</td>\n",
       "      <td>678815482</td>\n",
       "      <td>2018</td>\n",
       "    </tr>\n",
       "    <tr>\n",
       "      <th>4</th>\n",
       "      <td>5</td>\n",
       "      <td>Titanic</td>\n",
       "      <td>Par.</td>\n",
       "      <td>659363944</td>\n",
       "      <td>1997</td>\n",
       "    </tr>\n",
       "    <tr>\n",
       "      <th>5</th>\n",
       "      <td>6</td>\n",
       "      <td>Jurassic World</td>\n",
       "      <td>Uni.</td>\n",
       "      <td>652270625</td>\n",
       "      <td>2015</td>\n",
       "    </tr>\n",
       "    <tr>\n",
       "      <th>6</th>\n",
       "      <td>7</td>\n",
       "      <td>Marvel's The Avengers</td>\n",
       "      <td>BV</td>\n",
       "      <td>623357910</td>\n",
       "      <td>2012</td>\n",
       "    </tr>\n",
       "    <tr>\n",
       "      <th>7</th>\n",
       "      <td>8</td>\n",
       "      <td>Star Wars: The Last Jedi</td>\n",
       "      <td>BV</td>\n",
       "      <td>620181382</td>\n",
       "      <td>2017</td>\n",
       "    </tr>\n",
       "    <tr>\n",
       "      <th>8</th>\n",
       "      <td>9</td>\n",
       "      <td>Incredibles 2</td>\n",
       "      <td>BV</td>\n",
       "      <td>608581744</td>\n",
       "      <td>2018</td>\n",
       "    </tr>\n",
       "    <tr>\n",
       "      <th>9</th>\n",
       "      <td>10</td>\n",
       "      <td>The Dark Knight</td>\n",
       "      <td>WB</td>\n",
       "      <td>535234033</td>\n",
       "      <td>2008</td>\n",
       "    </tr>\n",
       "    <tr>\n",
       "      <th>10</th>\n",
       "      <td>11</td>\n",
       "      <td>Rogue One: A Star Wars Story</td>\n",
       "      <td>BV</td>\n",
       "      <td>532177324</td>\n",
       "      <td>2016</td>\n",
       "    </tr>\n",
       "    <tr>\n",
       "      <th>11</th>\n",
       "      <td>12</td>\n",
       "      <td>Beauty and the Beast (2017)</td>\n",
       "      <td>BV</td>\n",
       "      <td>504014165</td>\n",
       "      <td>2017</td>\n",
       "    </tr>\n",
       "    <tr>\n",
       "      <th>12</th>\n",
       "      <td>13</td>\n",
       "      <td>Finding Dory</td>\n",
       "      <td>BV</td>\n",
       "      <td>486295561</td>\n",
       "      <td>2016</td>\n",
       "    </tr>\n",
       "    <tr>\n",
       "      <th>13</th>\n",
       "      <td>14</td>\n",
       "      <td>Star Wars: Episode I - The Phantom Menace</td>\n",
       "      <td>Fox</td>\n",
       "      <td>474544677</td>\n",
       "      <td>1999</td>\n",
       "    </tr>\n",
       "    <tr>\n",
       "      <th>14</th>\n",
       "      <td>15</td>\n",
       "      <td>Star Wars</td>\n",
       "      <td>Fox</td>\n",
       "      <td>460998007</td>\n",
       "      <td>1977</td>\n",
       "    </tr>\n",
       "  </tbody>\n",
       "</table>\n",
       "</div>"
      ],
      "text/plain": [
       "    rank                                      title studio  lifetime_gross  \\\n",
       "0      1               Star Wars: The Force Awakens     BV       936662225   \n",
       "1      2                                     Avatar    Fox       760507625   \n",
       "2      3                              Black Panther     BV       700059566   \n",
       "3      4                     Avengers: Infinity War     BV       678815482   \n",
       "4      5                                    Titanic   Par.       659363944   \n",
       "5      6                             Jurassic World   Uni.       652270625   \n",
       "6      7                      Marvel's The Avengers     BV       623357910   \n",
       "7      8                   Star Wars: The Last Jedi     BV       620181382   \n",
       "8      9                              Incredibles 2     BV       608581744   \n",
       "9     10                            The Dark Knight     WB       535234033   \n",
       "10    11               Rogue One: A Star Wars Story     BV       532177324   \n",
       "11    12                Beauty and the Beast (2017)     BV       504014165   \n",
       "12    13                               Finding Dory     BV       486295561   \n",
       "13    14  Star Wars: Episode I - The Phantom Menace    Fox       474544677   \n",
       "14    15                                  Star Wars    Fox       460998007   \n",
       "\n",
       "    year  \n",
       "0   2015  \n",
       "1   2009  \n",
       "2   2018  \n",
       "3   2018  \n",
       "4   1997  \n",
       "5   2015  \n",
       "6   2012  \n",
       "7   2017  \n",
       "8   2018  \n",
       "9   2008  \n",
       "10  2016  \n",
       "11  2017  \n",
       "12  2016  \n",
       "13  1999  \n",
       "14  1977  "
      ]
     },
     "execution_count": 2,
     "metadata": {
      "tags": []
     },
     "output_type": "execute_result"
    }
   ],
   "source": [
    "box_office_df = pd.read_csv('boxoffice_march_2019.csv')\n",
    "box_office_df.head(15)"
   ]
  },
  {
   "cell_type": "code",
   "execution_count": 0,
   "metadata": {
    "colab": {},
    "colab_type": "code",
    "id": "ebP4PU9VBLxr",
    "outputId": "0a5cfb83-198e-4cbb-f695-d1f7c243a78f"
   },
   "outputs": [
    {
     "name": "stderr",
     "output_type": "stream",
     "text": [
      "C:\\Users\\tkjie\\Anaconda3\\lib\\site-packages\\IPython\\core\\interactiveshell.py:3049: DtypeWarning: Columns (10) have mixed types. Specify dtype option on import or set low_memory=False.\n",
      "  interactivity=interactivity, compiler=compiler, result=result)\n",
      "C:\\Users\\tkjie\\Anaconda3\\lib\\site-packages\\ipykernel_launcher.py:6: FutureWarning: convert_objects is deprecated.  To re-infer data dtypes for object columns, use DataFrame.infer_objects()\n",
      "For all other conversions use the data-type specific converters pd.to_datetime, pd.to_timedelta and pd.to_numeric.\n",
      "  \n"
     ]
    }
   ],
   "source": [
    "metadata_df = pd.read_csv('movies_metadata.csv')\n",
    "improve_metadata_df = metadata_df.drop(columns = ['belongs_to_collection', 'genres', 'homepage', 'imdb_id',\n",
    "                                                  'overview', 'spoken_languages', 'tagline', 'production_companies',\n",
    "                                                  'production_countries', 'poster_path', 'status'], axis = 1)\n",
    "improve_metadata_df[['budget', 'id', 'popularity']] = improve_metadata_df[['budget', 'id', 'popularity']\n",
    "                                                                         ].convert_objects(convert_numeric = True)"
   ]
  },
  {
   "cell_type": "code",
   "execution_count": 0,
   "metadata": {
    "colab": {},
    "colab_type": "code",
    "id": "tOpsyCcqBLxy"
   },
   "outputs": [],
   "source": [
    "top_budget = improve_metadata_df.nlargest(10, 'revenue')\n",
    "top_budget['revenue in millions'] = top_budget['revenue'] / (10^6)"
   ]
  },
  {
   "cell_type": "code",
   "execution_count": 0,
   "metadata": {
    "colab": {},
    "colab_type": "code",
    "id": "PEzsh1poBLx0",
    "outputId": "b8245082-58ef-48b4-9f0f-009193eccf56"
   },
   "outputs": [
    {
     "data": {
      "text/plain": [
       "Text(0.5, 0, 'Original Titles')"
      ]
     },
     "execution_count": 5,
     "metadata": {
      "tags": []
     },
     "output_type": "execute_result"
    },
    {
     "data": {
      "image/png": "[encoded data removed]",
      "text/plain": [
       "<Figure size 1152x360 with 1 Axes>"
      ]
     },
     "metadata": {
      "needs_background": "light",
      "tags": []
     },
     "output_type": "display_data"
    }
   ],
   "source": [
    "dims = (16, 5)\n",
    "fig = plt.figure(figsize = dims)\n",
    "\n",
    "ax1 = fig.add_subplot(111)\n",
    "\n",
    "top_budget.plot(kind = 'bar', x = 'original_title', y = 'revenue in millions', color = 'orange', ax = ax1)\n",
    "plt.title(\"Top 10 Box Office Figures\")\n",
    "plt.ylabel(\"Box Office Revenue (in millions)\")\n",
    "plt.xticks(rotation = 60)\n",
    "ax1.set_xlabel('Original Titles')"
   ]
  },
  {
   "cell_type": "code",
   "execution_count": 0,
   "metadata": {
    "colab": {},
    "colab_type": "code",
    "id": "_2DgJD4NBLx4",
    "outputId": "86f6e645-9cd4-4b0d-cb36-95eec04213d7"
   },
   "outputs": [
    {
     "name": "stdout",
     "output_type": "stream",
     "text": [
      "['Toy Story', 'Jumanji', 'Grumpier Old Men', 'Waiting to Exhale', 'Father of the Bride Part II', 'Heat', 'Sabrina', 'Tom and Huck', 'Sudden Death', 'GoldenEye']\n"
     ]
    }
   ],
   "source": [
    "title_name_list = []\n",
    "for words in improve_metadata_df['original_title']:\n",
    "    title_name_list.append(words)\n",
    "print(title_name_list[:10])"
   ]
  },
  {
   "cell_type": "code",
   "execution_count": 0,
   "metadata": {
    "colab": {},
    "colab_type": "code",
    "id": "huoapeIWBLx9",
    "outputId": "ac9c49dc-aa6d-4c1d-990e-f362adaac2be"
   },
   "outputs": [
    {
     "name": "stdout",
     "output_type": "stream",
     "text": [
      "[['Toy', 'Story'], ['Jumanji'], ['Grumpier', 'Old', 'Men'], ['Waiting', 'to', 'Exhale'], ['Father', 'of', 'the', 'Bride', 'Part', 'II'], ['Heat'], ['Sabrina'], ['Tom', 'and', 'Huck'], ['Sudden', 'Death'], ['GoldenEye']]\n"
     ]
    }
   ],
   "source": [
    "title_terms = []\n",
    "for terms in improve_metadata_df['original_title']:\n",
    "    title_terms.append(word_tokenize(terms))\n",
    "print(title_terms[:10])"
   ]
  },
  {
   "cell_type": "code",
   "execution_count": 0,
   "metadata": {
    "colab": {},
    "colab_type": "code",
    "id": "imjUY5kABLyD",
    "outputId": "94a23be9-5c56-4d09-f463-a3fda2dc0a9c"
   },
   "outputs": [
    {
     "name": "stdout",
     "output_type": "stream",
     "text": [
      "['Toy', 'Story', 'Jumanji', 'Grumpier', 'Old', 'Men', 'Waiting', 'to', 'Exhale', 'Father', 'of', 'the', 'Bride', 'Part', 'II']\n"
     ]
    }
   ],
   "source": [
    "flat_list = []\n",
    "for sublist in title_terms:\n",
    "    for item in sublist:\n",
    "        flat_list.append(item)\n",
    "print(flat_list[:15])"
   ]
  },
  {
   "cell_type": "markdown",
   "metadata": {
    "colab_type": "text",
    "id": "y3mfCnykBLyH"
   },
   "source": [
    "### Insights and Evaluation \n",
    "\n",
    "- Cleaning of data is important as the data type from the dataset may not be what we want. In addition, datasets may have too many unneccessary columns."
   ]
  },
  {
   "cell_type": "markdown",
   "metadata": {
    "colab_type": "text",
    "id": "IlK_6AqwBLyI"
   },
   "source": [
    "### Notes for Instructor\n",
    "\n",
    "Do give us feedback on your thoughts for our choice and direction of project!"
   ]
  }
 ],
 "metadata": {
  "colab": {
   "collapsed_sections": [],
   "name": "KJHWproposal - Teo KJ.ipynb",
   "provenance": [],
   "version": "0.3.2"
  },
  "kernelspec": {
   "display_name": "Python 3",
   "language": "python",
   "name": "python3"
  },
  "language_info": {
   "codemirror_mode": {
    "name": "ipython",
    "version": 3
   },
   "file_extension": ".py",
   "mimetype": "text/x-python",
   "name": "python",
   "nbconvert_exporter": "python",
   "pygments_lexer": "ipython3",
   "version": "3.6.8"
  },
  "toc": {
   "base_numbering": 1,
   "nav_menu": {},
   "number_sections": true,
   "sideBar": true,
   "skip_h1_title": false,
   "title_cell": "Table of Contents",
   "title_sidebar": "Contents",
   "toc_cell": false,
   "toc_position": {},
   "toc_section_display": true,
   "toc_window_display": false
  }
 },
 "nbformat": 4,
 "nbformat_minor": 1
}
